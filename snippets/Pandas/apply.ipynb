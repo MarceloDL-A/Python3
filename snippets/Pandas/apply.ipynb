{
 "cells": [
  {
   "cell_type": "markdown",
   "id": "dcb8e70d",
   "metadata": {},
   "source": [
    "# Pandas DataFrame apply() Examples"
   ]
  },
  {
   "cell_type": "markdown",
   "id": "49f7ae46",
   "metadata": {},
   "source": [
    "### 1. Applying a Function to DataFrame Elements"
   ]
  },
  {
   "cell_type": "code",
   "execution_count": 2,
   "id": "c0b36402",
   "metadata": {},
   "outputs": [
    {
     "name": "stdout",
     "output_type": "stream",
     "text": [
      "   A   B\n",
      "0  1  10\n",
      "1  2  20\n",
      "\n",
      "   A    B\n",
      "0  1  100\n",
      "1  4  400\n"
     ]
    }
   ],
   "source": [
    "import pandas as pd\n",
    "\n",
    "df = pd.DataFrame({'A': [1, 2], 'B': [10, 20]})\n",
    "\n",
    "\n",
    "def square(x):\n",
    "    return x * x\n",
    "\n",
    "\n",
    "df1 = df.apply(square)\n",
    "\n",
    "print(df)\n",
    "print()\n",
    "print(df1)"
   ]
  },
  {
   "cell_type": "markdown",
   "id": "ae2025f0",
   "metadata": {},
   "source": [
    "### 2. apply() with lambda"
   ]
  },
  {
   "cell_type": "code",
   "execution_count": 4,
   "id": "fca00105",
   "metadata": {},
   "outputs": [
    {
     "data": {
      "text/html": [
       "<div>\n",
       "<style scoped>\n",
       "    .dataframe tbody tr th:only-of-type {\n",
       "        vertical-align: middle;\n",
       "    }\n",
       "\n",
       "    .dataframe tbody tr th {\n",
       "        vertical-align: top;\n",
       "    }\n",
       "\n",
       "    .dataframe thead th {\n",
       "        text-align: right;\n",
       "    }\n",
       "</style>\n",
       "<table border=\"1\" class=\"dataframe\">\n",
       "  <thead>\n",
       "    <tr style=\"text-align: right;\">\n",
       "      <th></th>\n",
       "      <th>A</th>\n",
       "      <th>B</th>\n",
       "    </tr>\n",
       "  </thead>\n",
       "  <tbody>\n",
       "    <tr>\n",
       "      <th>0</th>\n",
       "      <td>1</td>\n",
       "      <td>100</td>\n",
       "    </tr>\n",
       "    <tr>\n",
       "      <th>1</th>\n",
       "      <td>4</td>\n",
       "      <td>400</td>\n",
       "    </tr>\n",
       "  </tbody>\n",
       "</table>\n",
       "</div>"
      ],
      "text/plain": [
       "   A    B\n",
       "0  1  100\n",
       "1  4  400"
      ]
     },
     "execution_count": 4,
     "metadata": {},
     "output_type": "execute_result"
    }
   ],
   "source": [
    "df1 = df.apply(lambda x: x * x)\n",
    "df1"
   ]
  },
  {
   "cell_type": "markdown",
   "id": "b40582ce",
   "metadata": {},
   "source": [
    "### 3. apply() along axis"
   ]
  },
  {
   "cell_type": "code",
   "execution_count": 9,
   "id": "9d869db9",
   "metadata": {},
   "outputs": [
    {
     "name": "stdout",
     "output_type": "stream",
     "text": [
      "   A   B\n",
      "0  1  10\n",
      "1  2  20\n",
      "\n",
      "apply to sum values in columns\n",
      "A     3\n",
      "B    30\n",
      "dtype: int64\n",
      "\n",
      "apply to sum values in rows\n",
      "0    11\n",
      "1    22\n",
      "dtype: int64\n"
     ]
    }
   ],
   "source": [
    "import pandas as pd\n",
    "import numpy as np\n",
    "\n",
    "df = pd.DataFrame({'A': [1, 2], 'B': [10, 20]})\n",
    "print(df)\n",
    "print()\n",
    "\n",
    "print(\"apply to sum values in columns\")\n",
    "df1 = df.apply(np.sum, axis=0)\n",
    "print(df1)\n",
    "\n",
    "print()\n",
    "print(\"apply to sum values in rows\")\n",
    "df1 = df.apply(np.sum, axis=1)\n",
    "print(df1)"
   ]
  },
  {
   "cell_type": "markdown",
   "id": "2f538cf8",
   "metadata": {},
   "source": [
    "### 4. DataFrame apply() with arguments"
   ]
  },
  {
   "cell_type": "code",
   "execution_count": 12,
   "id": "0578fcef",
   "metadata": {},
   "outputs": [
    {
     "name": "stdout",
     "output_type": "stream",
     "text": [
      "   A   B\n",
      "0  1  10\n",
      "1  2  20\n",
      "\n",
      "   A   B\n",
      "0  4  13\n",
      "1  5  23\n"
     ]
    }
   ],
   "source": [
    "def sum(x, y, z):\n",
    "    return x + y + z\n",
    "\n",
    "\n",
    "df = pd.DataFrame({'A': [1, 2], 'B': [10, 20]})\n",
    "print(df)\n",
    "print()\n",
    "\n",
    "df1 = df.apply(sum, args=(1, 2)) # O primeiro argumento, x, é o valor da linha. y e z são os nóvos valores dados pela função sum\n",
    "print(df1)"
   ]
  },
  {
   "cell_type": "markdown",
   "id": "41e6095c",
   "metadata": {},
   "source": [
    "### 5. DataFrame apply() with positional and keyword arguments"
   ]
  },
  {
   "cell_type": "code",
   "execution_count": 14,
   "id": "77d2cc44",
   "metadata": {},
   "outputs": [
    {
     "name": "stdout",
     "output_type": "stream",
     "text": [
      "   A   B\n",
      "0  1  10\n",
      "1  2  20\n",
      "\n",
      "    A    B\n",
      "0  40  130\n",
      "1  50  230\n"
     ]
    }
   ],
   "source": [
    "import pandas as pd\n",
    "\n",
    "\n",
    "def sum(x, y, z, m):\n",
    "    return (x + y + z) * m\n",
    "\n",
    "\n",
    "df = pd.DataFrame({'A': [1, 2], 'B': [10, 20]})\n",
    "print(df)\n",
    "print()\n",
    "\n",
    "df1 = df.apply(sum, args=(1, 2), m=10)\n",
    "print(df1)"
   ]
  },
  {
   "cell_type": "code",
   "execution_count": 24,
   "id": "7e0f0854",
   "metadata": {},
   "outputs": [
    {
     "name": "stdout",
     "output_type": "stream",
     "text": [
      "   A   B\n",
      "0  1  10\n",
      "1  2  20\n",
      "\n",
      "      A     B\n",
      "0  1.00  3.25\n",
      "1  1.25  5.75\n"
     ]
    }
   ],
   "source": [
    "import pandas as pd\n",
    "\n",
    "\n",
    "def sum(x, y, z, m, l, k, w, s):\n",
    "    return (x + y + z) * m/(l+k+w+s)\n",
    "\n",
    "\n",
    "df = pd.DataFrame({'A': [1, 2], 'B': [10, 20]})\n",
    "print(df)\n",
    "print()\n",
    "\n",
    "df1 = df.apply(sum, args=(1, 2), m=10, l=10, k=10, w=10, s=10)\n",
    "print(df1)"
   ]
  },
  {
   "cell_type": "code",
   "execution_count": null,
   "id": "c1c4f2c4",
   "metadata": {},
   "outputs": [],
   "source": []
  },
  {
   "cell_type": "markdown",
   "id": "1a206217",
   "metadata": {},
   "source": [
    "# DataFrame applymap() function"
   ]
  },
  {
   "cell_type": "markdown",
   "id": "9eeeecc0",
   "metadata": {},
   "source": [
    "If you want to apply a function element-wise, you can use applymap() function. This function doesn’t have additional arguments. The function is applied to each of the element and the returned value is used to create the result DataFrame object."
   ]
  },
  {
   "cell_type": "code",
   "execution_count": 25,
   "id": "cc757bd5",
   "metadata": {},
   "outputs": [
    {
     "name": "stdout",
     "output_type": "stream",
     "text": [
      "   A    B\n",
      "0  1  100\n",
      "1  4  400\n",
      "     A     B\n",
      "0  1.0  10.0\n",
      "1  2.0  20.0\n"
     ]
    }
   ],
   "source": [
    "import pandas as pd\n",
    "import math\n",
    "\n",
    "df = pd.DataFrame({'A': [1, 4], 'B': [100, 400]})\n",
    "df1 = df.applymap(math.sqrt)\n",
    "\n",
    "print(df)\n",
    "print(df1)"
   ]
  },
  {
   "cell_type": "markdown",
   "id": "be6600ea",
   "metadata": {},
   "source": [
    "# Use .apply with axis=1 to send every single row to a function"
   ]
  },
  {
   "cell_type": "code",
   "execution_count": 26,
   "id": "da4ae698",
   "metadata": {},
   "outputs": [
    {
     "data": {
      "text/html": [
       "<div>\n",
       "<style scoped>\n",
       "    .dataframe tbody tr th:only-of-type {\n",
       "        vertical-align: middle;\n",
       "    }\n",
       "\n",
       "    .dataframe tbody tr th {\n",
       "        vertical-align: top;\n",
       "    }\n",
       "\n",
       "    .dataframe thead th {\n",
       "        text-align: right;\n",
       "    }\n",
       "</style>\n",
       "<table border=\"1\" class=\"dataframe\">\n",
       "  <thead>\n",
       "    <tr style=\"text-align: right;\">\n",
       "      <th></th>\n",
       "      <th>height</th>\n",
       "      <th>width</th>\n",
       "    </tr>\n",
       "  </thead>\n",
       "  <tbody>\n",
       "    <tr>\n",
       "      <th>0</th>\n",
       "      <td>40.0</td>\n",
       "      <td>10</td>\n",
       "    </tr>\n",
       "    <tr>\n",
       "      <th>1</th>\n",
       "      <td>20.0</td>\n",
       "      <td>9</td>\n",
       "    </tr>\n",
       "    <tr>\n",
       "      <th>2</th>\n",
       "      <td>3.4</td>\n",
       "      <td>4</td>\n",
       "    </tr>\n",
       "  </tbody>\n",
       "</table>\n",
       "</div>"
      ],
      "text/plain": [
       "   height  width\n",
       "0    40.0     10\n",
       "1    20.0      9\n",
       "2     3.4      4"
      ]
     },
     "execution_count": 26,
     "metadata": {},
     "output_type": "execute_result"
    }
   ],
   "source": [
    "# Create a dataframe from a list of dictionaries\n",
    "rectangles = [\n",
    "    { 'height': 40, 'width': 10 },\n",
    "    { 'height': 20, 'width': 9 },\n",
    "    { 'height': 3.4, 'width': 4 }\n",
    "]\n",
    "\n",
    "rectangles_df = pd.DataFrame(rectangles)\n",
    "rectangles_df"
   ]
  },
  {
   "cell_type": "code",
   "execution_count": 27,
   "id": "c6933313",
   "metadata": {},
   "outputs": [],
   "source": [
    "# Use the height and width to calculate the area\n",
    "def calculate_area(row):\n",
    "    return row['height'] * row['width']"
   ]
  },
  {
   "cell_type": "code",
   "execution_count": 28,
   "id": "da1b10b4",
   "metadata": {},
   "outputs": [
    {
     "data": {
      "text/html": [
       "<div>\n",
       "<style scoped>\n",
       "    .dataframe tbody tr th:only-of-type {\n",
       "        vertical-align: middle;\n",
       "    }\n",
       "\n",
       "    .dataframe tbody tr th {\n",
       "        vertical-align: top;\n",
       "    }\n",
       "\n",
       "    .dataframe thead th {\n",
       "        text-align: right;\n",
       "    }\n",
       "</style>\n",
       "<table border=\"1\" class=\"dataframe\">\n",
       "  <thead>\n",
       "    <tr style=\"text-align: right;\">\n",
       "      <th></th>\n",
       "      <th>height</th>\n",
       "      <th>width</th>\n",
       "      <th>area</th>\n",
       "    </tr>\n",
       "  </thead>\n",
       "  <tbody>\n",
       "    <tr>\n",
       "      <th>0</th>\n",
       "      <td>40.0</td>\n",
       "      <td>10</td>\n",
       "      <td>400.0</td>\n",
       "    </tr>\n",
       "    <tr>\n",
       "      <th>1</th>\n",
       "      <td>20.0</td>\n",
       "      <td>9</td>\n",
       "      <td>180.0</td>\n",
       "    </tr>\n",
       "    <tr>\n",
       "      <th>2</th>\n",
       "      <td>3.4</td>\n",
       "      <td>4</td>\n",
       "      <td>13.6</td>\n",
       "    </tr>\n",
       "  </tbody>\n",
       "</table>\n",
       "</div>"
      ],
      "text/plain": [
       "   height  width   area\n",
       "0    40.0     10  400.0\n",
       "1    20.0      9  180.0\n",
       "2     3.4      4   13.6"
      ]
     },
     "execution_count": 28,
     "metadata": {},
     "output_type": "execute_result"
    }
   ],
   "source": [
    "# Use .apply to save the new column if we'd like\n",
    "rectangles_df['area'] = rectangles_df.apply(calculate_area, axis=1)\n",
    "rectangles_df"
   ]
  },
  {
   "cell_type": "markdown",
   "id": "bd4d5bb8",
   "metadata": {},
   "source": [
    "### Apply com indices relativos das linhas"
   ]
  },
  {
   "cell_type": "code",
   "execution_count": 121,
   "id": "d2ba0aff",
   "metadata": {},
   "outputs": [
    {
     "data": {
      "text/html": [
       "<div>\n",
       "<style scoped>\n",
       "    .dataframe tbody tr th:only-of-type {\n",
       "        vertical-align: middle;\n",
       "    }\n",
       "\n",
       "    .dataframe tbody tr th {\n",
       "        vertical-align: top;\n",
       "    }\n",
       "\n",
       "    .dataframe thead th {\n",
       "        text-align: right;\n",
       "    }\n",
       "</style>\n",
       "<table border=\"1\" class=\"dataframe\">\n",
       "  <thead>\n",
       "    <tr style=\"text-align: right;\">\n",
       "      <th></th>\n",
       "      <th>height</th>\n",
       "      <th>width</th>\n",
       "    </tr>\n",
       "  </thead>\n",
       "  <tbody>\n",
       "    <tr>\n",
       "      <th>0</th>\n",
       "      <td>40.0</td>\n",
       "      <td>10</td>\n",
       "    </tr>\n",
       "    <tr>\n",
       "      <th>1</th>\n",
       "      <td>20.0</td>\n",
       "      <td>9</td>\n",
       "    </tr>\n",
       "    <tr>\n",
       "      <th>2</th>\n",
       "      <td>3.4</td>\n",
       "      <td>4</td>\n",
       "    </tr>\n",
       "  </tbody>\n",
       "</table>\n",
       "</div>"
      ],
      "text/plain": [
       "   height  width\n",
       "0    40.0     10\n",
       "1    20.0      9\n",
       "2     3.4      4"
      ]
     },
     "execution_count": 121,
     "metadata": {},
     "output_type": "execute_result"
    }
   ],
   "source": [
    "# Create a dataframe from a list of dictionaries\n",
    "rectangles = [\n",
    "    { 'height': 40, 'width': 10 },\n",
    "    { 'height': 20, 'width': 9 },\n",
    "    { 'height': 3.4, 'width': 4 }\n",
    "]\n",
    "\n",
    "rectangles_df = pd.DataFrame(rectangles)\n",
    "rectangles_df"
   ]
  },
  {
   "cell_type": "code",
   "execution_count": 122,
   "id": "61becaec",
   "metadata": {},
   "outputs": [],
   "source": [
    "# Use the height and width to calculate the area\n",
    "def calculate_area(row):\n",
    "    print(\"_\"*100)\n",
    "    indice = rectangles_df[\"height\"][rectangles_df[\"height\"] == row['height']].index[0]\n",
    "    print(f\"indice: {indice}\")\n",
    "    try:\n",
    "        print(\"Escolhendo o valor de um índice anterior\")\n",
    "        print(rectangles_df[\"height\"][indice - 1])\n",
    "    except:\n",
    "        pass\n",
    "    print(\"_\"*100)\n",
    "    return row['height'] * row['width']"
   ]
  },
  {
   "cell_type": "code",
   "execution_count": 123,
   "id": "fbfe333d",
   "metadata": {},
   "outputs": [
    {
     "name": "stdout",
     "output_type": "stream",
     "text": [
      "____________________________________________________________________________________________________\n",
      "indice: 0\n",
      "Escolhendo o valor de um índice anterior\n",
      "____________________________________________________________________________________________________\n",
      "____________________________________________________________________________________________________\n",
      "indice: 1\n",
      "Escolhendo o valor de um índice anterior\n",
      "40.0\n",
      "____________________________________________________________________________________________________\n",
      "____________________________________________________________________________________________________\n",
      "indice: 2\n",
      "Escolhendo o valor de um índice anterior\n",
      "20.0\n",
      "____________________________________________________________________________________________________\n"
     ]
    },
    {
     "data": {
      "text/html": [
       "<div>\n",
       "<style scoped>\n",
       "    .dataframe tbody tr th:only-of-type {\n",
       "        vertical-align: middle;\n",
       "    }\n",
       "\n",
       "    .dataframe tbody tr th {\n",
       "        vertical-align: top;\n",
       "    }\n",
       "\n",
       "    .dataframe thead th {\n",
       "        text-align: right;\n",
       "    }\n",
       "</style>\n",
       "<table border=\"1\" class=\"dataframe\">\n",
       "  <thead>\n",
       "    <tr style=\"text-align: right;\">\n",
       "      <th></th>\n",
       "      <th>height</th>\n",
       "      <th>width</th>\n",
       "      <th>area</th>\n",
       "    </tr>\n",
       "  </thead>\n",
       "  <tbody>\n",
       "    <tr>\n",
       "      <th>0</th>\n",
       "      <td>40.0</td>\n",
       "      <td>10</td>\n",
       "      <td>400.0</td>\n",
       "    </tr>\n",
       "    <tr>\n",
       "      <th>1</th>\n",
       "      <td>20.0</td>\n",
       "      <td>9</td>\n",
       "      <td>180.0</td>\n",
       "    </tr>\n",
       "    <tr>\n",
       "      <th>2</th>\n",
       "      <td>3.4</td>\n",
       "      <td>4</td>\n",
       "      <td>13.6</td>\n",
       "    </tr>\n",
       "  </tbody>\n",
       "</table>\n",
       "</div>"
      ],
      "text/plain": [
       "   height  width   area\n",
       "0    40.0     10  400.0\n",
       "1    20.0      9  180.0\n",
       "2     3.4      4   13.6"
      ]
     },
     "execution_count": 123,
     "metadata": {},
     "output_type": "execute_result"
    }
   ],
   "source": [
    "# Use .apply to save the new column if we'd like\n",
    "rectangles_df['area'] = rectangles_df.apply(calculate_area, axis=1)\n",
    "rectangles_df"
   ]
  },
  {
   "cell_type": "code",
   "execution_count": null,
   "id": "fa4454ad",
   "metadata": {},
   "outputs": [],
   "source": []
  },
  {
   "cell_type": "code",
   "execution_count": null,
   "id": "4e592ae6",
   "metadata": {},
   "outputs": [],
   "source": []
  },
  {
   "cell_type": "markdown",
   "id": "2ed9cf36",
   "metadata": {},
   "source": [
    "### Método II: Apply com indices relativos das linhas"
   ]
  },
  {
   "cell_type": "code",
   "execution_count": 148,
   "id": "695b7a9c",
   "metadata": {},
   "outputs": [
    {
     "data": {
      "text/html": [
       "<div>\n",
       "<style scoped>\n",
       "    .dataframe tbody tr th:only-of-type {\n",
       "        vertical-align: middle;\n",
       "    }\n",
       "\n",
       "    .dataframe tbody tr th {\n",
       "        vertical-align: top;\n",
       "    }\n",
       "\n",
       "    .dataframe thead th {\n",
       "        text-align: right;\n",
       "    }\n",
       "</style>\n",
       "<table border=\"1\" class=\"dataframe\">\n",
       "  <thead>\n",
       "    <tr style=\"text-align: right;\">\n",
       "      <th></th>\n",
       "      <th>height</th>\n",
       "      <th>width</th>\n",
       "    </tr>\n",
       "  </thead>\n",
       "  <tbody>\n",
       "    <tr>\n",
       "      <th>0</th>\n",
       "      <td>40</td>\n",
       "      <td>10</td>\n",
       "    </tr>\n",
       "    <tr>\n",
       "      <th>1</th>\n",
       "      <td>20</td>\n",
       "      <td>20</td>\n",
       "    </tr>\n",
       "    <tr>\n",
       "      <th>2</th>\n",
       "      <td>3</td>\n",
       "      <td>30</td>\n",
       "    </tr>\n",
       "  </tbody>\n",
       "</table>\n",
       "</div>"
      ],
      "text/plain": [
       "   height  width\n",
       "0      40     10\n",
       "1      20     20\n",
       "2       3     30"
      ]
     },
     "execution_count": 148,
     "metadata": {},
     "output_type": "execute_result"
    }
   ],
   "source": [
    "# Create a dataframe from a list of dictionaries\n",
    "rectangles = [\n",
    "    { 'height': 40, 'width': 10 },\n",
    "    { 'height': 20, 'width': 20},\n",
    "    { 'height': 3, 'width': 30 }\n",
    "]\n",
    "\n",
    "rectangles_df = pd.DataFrame(rectangles)\n",
    "rectangles_df"
   ]
  },
  {
   "cell_type": "code",
   "execution_count": 157,
   "id": "49c0e53b",
   "metadata": {},
   "outputs": [],
   "source": [
    "# Use the height and width to calculate the area\n",
    "def calculate_area(row):\n",
    "    print(\"_\"*50 + \"start\"+ \"_\"*50)\n",
    "    try:\n",
    "        print(f\"row._name: {row._name}\")\n",
    "        print(f\"row['height']: {row['height']}\")\n",
    "        print(f\"rectangles_df['width'].iloc[row._name-1]: {rectangles_df['width'].iloc[row._name-1]}\")\n",
    "        area = row['height'] * rectangles_df['width'].iloc[row._name-1]\n",
    "    except:\n",
    "        pass\n",
    "    print(\"_\"*50 + \"end\"+ \"_\"*50)\n",
    "    return area"
   ]
  },
  {
   "cell_type": "code",
   "execution_count": 158,
   "id": "742f812f",
   "metadata": {},
   "outputs": [
    {
     "name": "stdout",
     "output_type": "stream",
     "text": [
      "__________________________________________________start__________________________________________________\n",
      "row._name: 0\n",
      "row['height']: 40\n",
      "rectangles_df['width'].iloc[row._name-1]: 30\n",
      "__________________________________________________end__________________________________________________\n",
      "__________________________________________________start__________________________________________________\n",
      "row._name: 1\n",
      "row['height']: 20\n",
      "rectangles_df['width'].iloc[row._name-1]: 10\n",
      "__________________________________________________end__________________________________________________\n",
      "__________________________________________________start__________________________________________________\n",
      "row._name: 2\n",
      "row['height']: 3\n",
      "rectangles_df['width'].iloc[row._name-1]: 20\n",
      "__________________________________________________end__________________________________________________\n"
     ]
    },
    {
     "data": {
      "text/html": [
       "<div>\n",
       "<style scoped>\n",
       "    .dataframe tbody tr th:only-of-type {\n",
       "        vertical-align: middle;\n",
       "    }\n",
       "\n",
       "    .dataframe tbody tr th {\n",
       "        vertical-align: top;\n",
       "    }\n",
       "\n",
       "    .dataframe thead th {\n",
       "        text-align: right;\n",
       "    }\n",
       "</style>\n",
       "<table border=\"1\" class=\"dataframe\">\n",
       "  <thead>\n",
       "    <tr style=\"text-align: right;\">\n",
       "      <th></th>\n",
       "      <th>height</th>\n",
       "      <th>width</th>\n",
       "      <th>area</th>\n",
       "    </tr>\n",
       "  </thead>\n",
       "  <tbody>\n",
       "    <tr>\n",
       "      <th>0</th>\n",
       "      <td>40</td>\n",
       "      <td>10</td>\n",
       "      <td>1200</td>\n",
       "    </tr>\n",
       "    <tr>\n",
       "      <th>1</th>\n",
       "      <td>20</td>\n",
       "      <td>20</td>\n",
       "      <td>200</td>\n",
       "    </tr>\n",
       "    <tr>\n",
       "      <th>2</th>\n",
       "      <td>3</td>\n",
       "      <td>30</td>\n",
       "      <td>60</td>\n",
       "    </tr>\n",
       "  </tbody>\n",
       "</table>\n",
       "</div>"
      ],
      "text/plain": [
       "   height  width  area\n",
       "0      40     10  1200\n",
       "1      20     20   200\n",
       "2       3     30    60"
      ]
     },
     "execution_count": 158,
     "metadata": {},
     "output_type": "execute_result"
    }
   ],
   "source": [
    "# Use .apply to save the new column if we'd like\n",
    "rectangles_df['area'] = rectangles_df.apply(calculate_area, axis=1)\n",
    "rectangles_df"
   ]
  },
  {
   "cell_type": "code",
   "execution_count": null,
   "id": "09ad4c0a",
   "metadata": {},
   "outputs": [],
   "source": []
  }
 ],
 "metadata": {
  "kernelspec": {
   "display_name": "Python 3 (ipykernel)",
   "language": "python",
   "name": "python3"
  },
  "language_info": {
   "codemirror_mode": {
    "name": "ipython",
    "version": 3
   },
   "file_extension": ".py",
   "mimetype": "text/x-python",
   "name": "python",
   "nbconvert_exporter": "python",
   "pygments_lexer": "ipython3",
   "version": "3.7.4"
  }
 },
 "nbformat": 4,
 "nbformat_minor": 5
}
